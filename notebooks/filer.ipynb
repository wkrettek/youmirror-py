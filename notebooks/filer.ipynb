{
 "cells": [
  {
   "cell_type": "markdown",
   "metadata": {},
   "source": [
    "### Testing the helper"
   ]
  },
  {
   "cell_type": "code",
   "execution_count": 1,
   "metadata": {},
   "outputs": [],
   "source": [
    "from youmirror.filer import *\n",
    "from pathlib import Path"
   ]
  },
  {
   "cell_type": "code",
   "execution_count": 2,
   "metadata": {},
   "outputs": [],
   "source": [
    "path = calculate_path(\"channel\", \"playlist is th enam e\", \"video name is this\")"
   ]
  },
  {
   "cell_type": "code",
   "execution_count": 3,
   "metadata": {},
   "outputs": [
    {
     "name": "stdout",
     "output_type": "stream",
     "text": [
      "image.jpg\n",
      "channels/playlist_is_th_enam_e/video_name_is_this\n"
     ]
    }
   ],
   "source": [
    "print(\n",
    "    resolve_collision(\n",
    "        \"image.jpg\",\n",
    "        {\n",
    "            \"something\",\n",
    "            \"another thin\",\n",
    "            \"home/user/videos/image.jpg\",\n",
    "            \"/home/user/videos/\",\n",
    "        },\n",
    "        \"this_is_a_the_id\",\n",
    "    )\n",
    ")\n",
    "print(\n",
    "    resolve_collision(\n",
    "        path,\n",
    "        {\n",
    "            \"something\",\n",
    "            \"another thin\",\n",
    "            \"/home/user/videos/image.jpg\",\n",
    "            \"/home/user/videos/\",\n",
    "        },\n",
    "        \"this_is_a_the_id\",\n",
    "    )\n",
    ")"
   ]
  }
 ],
 "metadata": {
  "interpreter": {
   "hash": "6888a618b45ed3d089a7024cb4c14c044c0a149f2922f727f8e9250c1b4216d0"
  },
  "kernelspec": {
   "display_name": "Python ('memery')",
   "language": "python",
   "name": "python3"
  },
  "language_info": {
   "codemirror_mode": {
    "name": "ipython",
    "version": 3
   },
   "file_extension": ".py",
   "mimetype": "text/x-python",
   "name": "python",
   "nbconvert_exporter": "python",
   "pygments_lexer": "ipython3",
   "version": "3.9.6"
  },
  "orig_nbformat": 4
 },
 "nbformat": 4,
 "nbformat_minor": 2
}
