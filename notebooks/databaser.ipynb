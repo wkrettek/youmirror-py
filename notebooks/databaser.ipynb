{
 "cells": [
  {
   "cell_type": "markdown",
   "metadata": {},
   "source": [
    "### Testing the databaser"
   ]
  },
  {
   "cell_type": "code",
   "execution_count": null,
   "metadata": {},
   "outputs": [],
   "source": [
    "import logging\n",
    "\n",
    "# import youmirror.databaser as db\n",
    "# db.logging.basicConfig(level=logging.DEBUG)\n",
    "from youmirror.databaser import *\n",
    "import time\n",
    "\n",
    "logging.basicConfig(level=logging.DEBUG)\n",
    "dbpath = \"../new_mirror/youmirror.db\""
   ]
  },
  {
   "cell_type": "code",
   "execution_count": null,
   "metadata": {},
   "outputs": [],
   "source": [
    "files = open_table(dbpath, \"files\")\n",
    "channels = open_table(dbpath, \"channel\")\n",
    "playlists = open_table(dbpath, \"playlist\")\n",
    "singles = open_table(dbpath, \"single\")\n",
    "paths = open_table(dbpath, \"paths\")\n",
    "print(\"Singles\")\n",
    "for single in singles:\n",
    "    print(single)\n",
    "print(\"-\" * 20)\n",
    "print(\"Paths\")\n",
    "for path in paths:\n",
    "    print(path)\n",
    "print(\"-\" * 20)\n",
    "print(\"Files\")\n",
    "for file in files:\n",
    "    print(file)\n",
    "print(\"-\" * 20)\n",
    "print(\"Channels\")\n",
    "for channel in channels:\n",
    "    print(channel)\n",
    "print(\"-\" * 20)\n",
    "print(\"Playlists\")\n",
    "for playlist in playlists:\n",
    "    print(playlist)"
   ]
  },
  {
   "cell_type": "code",
   "execution_count": null,
   "metadata": {},
   "outputs": [],
   "source": [
    "for filename in files:\n",
    "    print(filename, files[filename])"
   ]
  },
  {
   "cell_type": "code",
   "execution_count": null,
   "metadata": {},
   "outputs": [],
   "source": [
    "print(len(paths))"
   ]
  }
 ],
 "metadata": {
  "interpreter": {
   "hash": "7f9ff59c3162761adf13ed323d56ee47dd50a44e9106b8fbfbd1d7db36ca348c"
  },
  "kernelspec": {
   "display_name": "Python 3.9.6 ('youmirror-1iwEkUPf-py3.9')",
   "language": "python",
   "name": "python3"
  },
  "language_info": {
   "codemirror_mode": {
    "name": "ipython",
    "version": 3
   },
   "file_extension": ".py",
   "mimetype": "text/x-python",
   "name": "python",
   "nbconvert_exporter": "python",
   "pygments_lexer": "ipython3",
   "version": "3.9.12"
  },
  "orig_nbformat": 4
 },
 "nbformat": 4,
 "nbformat_minor": 2
}
