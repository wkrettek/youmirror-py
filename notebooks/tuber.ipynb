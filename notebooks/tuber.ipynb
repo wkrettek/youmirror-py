{
 "cells": [
  {
   "cell_type": "code",
   "execution_count": 1,
   "metadata": {},
   "outputs": [],
   "source": [
    "from youmirror.parser import *\n",
    "from youmirror.helper import resolve_collision\n",
    "\n",
    "dict()\n",
    "all_links = [\n",
    "    \"https://www.youtube.com/playlist?list=PLBZw8Bdva63UAhbdAlbbYotegKhUMeSzN\",\n",
    "    \"https://www.youtube.com/channel/UCBw0bL8MtOIl1UX7db2MT3A\",\n",
    "    \"https://www.youtube.com/watch?v=rj7DOPPTkQA\",\n",
    "]\n",
    "pl = Playlist(\"https://www.youtube.com/playlist?list=PLD0D54219E5F2544D\")\n",
    "ch = Channel(\"https://www.youtube.com/c/JacobSorber\")\n",
    "si = YouTube(\"https://www.youtube.com/watch?v=rj7DOPPTkQA\")\n",
    "all_types = [pl, ch, si]\n",
    "options = {\n",
    "    \"dl_video\": True,  # Whether to download video\n",
    "    \"dl_captions\": True,  # Whether to download captions\n",
    "    \"dl_audio\": True,  # Whether to download audio\n",
    "    \"dl_thumbnail\": True,\n",
    "    \"captions\": [\"en\", \"a.en\", \"fr\"],\n",
    "}"
   ]
  },
  {
   "cell_type": "code",
   "execution_count": 4,
   "metadata": {},
   "outputs": [
    {
     "name": "stdout",
     "output_type": "stream",
     "text": [
      "playlist C++ GUI with Qt Playlist = playlists/C++_GUI_with_Qt_Playlist\n",
      "{'name': 'C++ GUI with Qt Playlist', 'children': {'7ZuSs27tQPA', 'ufnA4UOKAFE', '-A5S9ka5H9A', 'CRVwBNkn63s', 'HnuY7NhzLGM', 'mn4t2tqncoA', 'aMUh9DmFLto', 'swZNOKKkQiw', 'HiOOWDb4YjE', 'kg98E06wm1I', '6GyrKryOVJY', 'pQHFqp0NK4E', 'HgyocPuO1Hk', 'DUeMzXc2V_Q'}, 'available': True, 'path': 'playlists/C++_GUI_with_Qt_Playlist'}\n",
      "channel Jacob Sorber = channels/Jacob_Sorber\n",
      "{'name': 'Jacob Sorber', 'children': {'7MhJmLV6tdM', 'CRlqU9XzVr4', 'FPVTr4thm2M', 'vEICc0zygWQ', 'eSowTJuM04I', 'MCVa1ZhQaqI', 'xJ8KenZw2ag', '3GhCOeTJJzQ', 'SKa6d9bUlO0', 't6Jfrmdg5rk', 'tKst2_96vB8', 'JbHmin2Wtmc', 'S-4j2Byi8KM', 'AQ7hhD0Q4rk', 'RoVD6zlftF0', '5td9upDbkaU', '4p564Su-F9M', 'HGWS4nCnycA', 'eLRWDZ7uQQU', 'IepIFbK3Ee8', 'CM6QPHsPI2I', 'zyQXhPUM4hc', 'LRLlEzkCL4I', 'It0OFCbbTJE', 'RY71m2UKO5Q', 'KZq2wHZoAaE', 'dhFkwGRSVGk', 'XV5sRaSVtXQ', 'cSC7W2MwKqw', 'Kq8m980JEeg', 'kjHDnUjaai4', '6tIWFEzzx9I', '8bmEhtMVrhk', 'u58HG5n49Xk', 'Scs3oBY7dEo', 'jVzSBkbfdiw', 'U161zVjv1rs', 'mfmXcbiRs0E', 'P6Z5K8zmEmc', 'A_pV61xFty8', '5HuM_eVjFJo', 'XjhL6WCvH-w', 'GV10eIuPs9k', 'NqUTiJPgBn8', 'OLH_k6IhTyM', 'Pg_4Jz8ZIH4', '2YfM-HxQd_8', 'ySY_FlA7EvA', 'Sddn1UjzSAo', 'dh1mil1ehvE', 'vbVuVQXJEks', '3E-r4GfvWOI', 'hGBHGficAiM', 'bWMIpHVRFUo', 'vRCnIyeaV8M', '79KFwjNZupU', 'a8mPKBxQ9No', '6_oBi3Qw_mc', 'Jeg_162ze0o', 'Pqf6H1WSbeY', 'Os5cK0H8EOA', 'KFbm6lkMhgw', 'kYvVHlMMF_A', 'IGW8-yeYRgI', 'XKeQ9KS5pHI', 'uT-YLEHwVS4', 'BM9cnSEY23s', 't_vM_8TLjFE', 'aC37UE7edP0', '9Zyp4sdSUNM', 'PLnmboUvqq8', 'PQxM9EXauLo', 'wg1wZgCdJPA', 'lbq2lntAJIE', 'eC71xRY4yAM', 'w3iXBUbq4NY', '1jv428xKsRg', 'ss1-REMJ9GA', 'P0k1C3F61xY', 'UbhlOk7vjVY', 'L__eClqEyLg', 'rPV6b8BUwxM', 'KQBBWvY-s0o', 'm7E9piHcfr4', 'yZ0lJu5AKLk', 'Aw0YAUdQp1c', 'm4agpY_w2y8', 'rBtfqH4kdlc', '6Dk8s0F2gow', 'G5dNorAoeCM', 'I55kWLXqhDI', 'nvRkFi8rbOM', 'VOpjAHCee7c', '1KQqpiXxvWQ', '1vGfkBwIOXw', 'lEWFr98UqY0', 'yM9zteeTCiI', 'k2K2HVg4Arc', 'hfwwaNNJ-0A', 'KNPL11YJoAQ', '-eDY7yh-CyA', '1Jh9BUxIw0U', 'M6RCUiZzl8Y', 'j3SwYvuR8oc', '3-L_91DFBm4', 'K8dCh3ZMLN8', 'ps4MI41Bg58', 'll4XT0MYKN0', 'Y6pFtgRdUts', 'a8l8PwCzw20', '86LQtc3lewI', 'FT2A2HQbTkU', '7mKfWrNQcj0', 'bC2dfBJwtMY', 'iX1uGr6Si0E', '5x4p5KSoYOQ', '5TzFNouc0PE', 'vMFa6oKSmao', '8AXEHrQTf3I', 'Fq9chEBQMFE', '9axu8CUvOKY', 'gNEZHW5-Wso', '2AmP7Pse4U0', 'zkV-MoTosPE', 'FVbgPascmlM', 'gDGgMhmoTJI', 'A0A19LQKOjM', 'mib3ahMbq_0', 'FcIubL92gaI', 'esXw4bdaZkc', 'phYM4L1BBjI', 'LBQWwo2d-I8', '83M5-NPDeWs', 'S-ak715zIIE', 'i6qgTWUMNXc', 'axngwDJ79GY', 'l5KqE0DMG-Q', 'MjHMeufOxp8', 'EPTv5IH5dvg', 'Q6RJFJvw3B8', 'DzyxGrDT2yk', 'PVIzokTJdVM', 'ayfCxgVStdQ', 'pKYvhURF3Z4', 'liWdn92SAvs', 'NeOTr0u7ALk', 'aypNWcRlwYw', '9NQ7czFEUhg', 'rww_OHQOmbs', 'p63O8g4beBo', 'kvqUtn0dXRI', 'dpjt_D8xcPU', 'aMAM5vL7wTs', 'SC8uWXmDJs4', 'KjPvEcds0QA', 'P6oqhAxV0dA', 'wJGd7tKF2zY', 'bdIiTxtMaKA', 'daA-KBKfJ_o', 'ukM_zzrIeXs', 'gYMvCSCfr38', 'MruzHlXqspU', 'cCdn7Cy6TfE', 'rn8LygL-BMM', 'lMk5AGz88g4', 'PfMV_wa0KY4', '2Ti5yvumFTU', 'TsUOhPsZk6k', 'Z4r4qJx9yds', 'mm0b_H0KIRw', 'NqEbV5FBKmg', 'bXsKnUGndEU', 'LfIPVIsH4ZU', 'PtTVe0zfg_M', 'eQcRcgOnl9o', 'k6ESk9zafHM', 'b9_0bqrm2G8', 'JPPxV3Hdz_A', 'x24fOAPclL4', 'FMNnusHqjpw', 'KGFOLJiIo1g', 'A4sRhuGkRb0', 'BQJBe4IbsvQ', 'kDxjcyHu_Qs', 'zx7euEEZ0H4', 'PP03QAsIij8', 'JYSYHTfOFgU', 'tq3zPnrQIpU', 'Ew2QnDeTCCE', 'OoHich9BPxg', '34rufNo7dE4', 'uA8X5zNOGw8', '3CbFFVHQrk4', 'NDfAYZCHstI', '-Q64Ae4EHqU', 'LLqDNjr0kPo', 'ADh_OFBfdEE', 'iF2F0YIgxy4', 'ZIhy4uy5uJM', 'dPxCGlW9lfM', 'p8RC_i9t0MU', 'uLZVDSZc_ZU', 'iYRl50gtprA', 'Jkmy2YLUbUY', 'dcBcgPGIMpo', 'JarMkGWTF8Y', '_kIa4D7kQ8I', 'IZiUT-ipnj0', 'wcpH2PkC-94', 'grk4QUDveFw', '0H1QXspkStA', 'IDE--6n-Qeo', 'HeCT7VHIUm8', 'L69eIm472nY', '6yOWFJ9wu-s', 'oxWg0_9DSrI', 'oyX30WVuEos', 'ck_RfVOYgjQ', 'n-b04Kx_mi0', 'modeJNBDtcM', '1rIRztTHFaE', 'tjndNX2h5Zc', '8nZfjmVHBz8', 'tRtVR-WL8w4', 'WgVSq-sgHOc', 'ewqX1IuYzC8', '9KfSKkeIyOs', 'oZ1gbIpmB8Q', 'ufMDgJY2I8I', '9zU92H_CLVI'}, 'available': True, 'path': 'channels/Jacob_Sorber'}\n",
      "single ASMR Programming - Spinning Donut - No Talking = singles/ASMR_Programming_-_Spinning_Donut_-_No_Talking\n",
      "{'name': 'ASMR Programming - Spinning Donut - No Talking', 'available': False, 'parent_name': 'None', 'parent_type': 'single', 'path': 'singles/ASMR_Programming_-_Spinning_Donut_-_No_Talking', 'files': {'singles/ASMR_Programming_-_Spinning_Donut_-_No_Talking/ASMR_Programming_-_Spinning_Donut_-_No_Talking.mp4': {'type': 'video'}, 'singles/ASMR_Programming_-_Spinning_Donut_-_No_Talking/ASMR_Programming_-_Spinning_Donut_-_No_Talking_audio.mp4': {'type': 'audio'}, 'singles/ASMR_Programming_-_Spinning_Donut_-_No_Talking/ASMR_Programming_-_Spinning_Donut_-_No_Talking_en.srt': {'type': 'caption', 'caption_type': 'en'}, 'singles/ASMR_Programming_-_Spinning_Donut_-_No_Talking/ASMR_Programming_-_Spinning_Donut_-_No_Talking_aen.srt': {'type': 'caption', 'caption_type': 'a.en'}, 'singles/ASMR_Programming_-_Spinning_Donut_-_No_Talking/ASMR_Programming_-_Spinning_Donut_-_No_Talking_fr.srt': {'type': 'caption', 'caption_type': 'fr'}, 'singles/ASMR_Programming_-_Spinning_Donut_-_No_Talking/ASMR_Programming_-_Spinning_Donut_-_No_Talking.jpg': {'type': 'thumbnail'}}}\n"
     ]
    }
   ],
   "source": [
    "for a in all_types:\n",
    "    print(get_keys(a, {}, options, {}))"
   ]
  },
  {
   "cell_type": "code",
   "execution_count": 11,
   "metadata": {},
   "outputs": [
    {
     "name": "stdout",
     "output_type": "stream",
     "text": [
      "{'text': {'hi'}, 'video': {'hello'}, 'audio': {'goodbye'}, 'thumbnail': {'sum'}}\n"
     ]
    }
   ],
   "source": [
    "thing = {\n",
    "    \"files\": {\n",
    "        \"text\": {\"hi\"},\n",
    "        \"video\": {\"hello\"},\n",
    "        \"audio\": {\"goodbye\"},\n",
    "        \"thumbnail\": {\"sum\"},\n",
    "    }\n",
    "}\n",
    "for t in thing:\n",
    "    print(thing[\"files\"])"
   ]
  },
  {
   "cell_type": "code",
   "execution_count": 2,
   "metadata": {},
   "outputs": [
    {
     "name": "stdout",
     "output_type": "stream",
     "text": [
      "{'singles/ASMR_Programming_-_Spinning_Donut_-_No_Talking/video_name.mp4': {'type': 'video'}, 'singles/ASMR_Programming_-_Spinning_Donut_-_No_Talking/video_name_audio.mp4': {'type': 'audio'}, 'singles/ASMR_Programming_-_Spinning_Donut_-_No_Talking/video_name_en.srt': {'type': 'caption', 'caption_type': 'en'}, 'singles/ASMR_Programming_-_Spinning_Donut_-_No_Talking/video_name_aen.srt': {'type': 'caption', 'caption_type': 'a.en'}, 'singles/ASMR_Programming_-_Spinning_Donut_-_No_Talking/video_name_fr.srt': {'type': 'caption', 'caption_type': 'fr'}, 'singles/ASMR_Programming_-_Spinning_Donut_-_No_Talking/video_name.jpg': {'type': 'thumbnail'}}\n"
     ]
    }
   ],
   "source": [
    "files = get_files(\n",
    "    \"singles/ASMR_Programming_-_Spinning_Donut_-_No_Talking\", \"video_name\", options\n",
    ")\n",
    "print(files)"
   ]
  },
  {
   "cell_type": "code",
   "execution_count": 3,
   "metadata": {},
   "outputs": [
    {
     "name": "stdout",
     "output_type": "stream",
     "text": [
      "{'name': 'C++ GUI with Qt Playlist', 'children': {'HgyocPuO1Hk', '-A5S9ka5H9A', 'ufnA4UOKAFE', 'swZNOKKkQiw', 'CRVwBNkn63s', 'kg98E06wm1I', 'mn4t2tqncoA', 'HiOOWDb4YjE', '6GyrKryOVJY', 'DUeMzXc2V_Q', 'aMUh9DmFLto', 'pQHFqp0NK4E', 'HnuY7NhzLGM', '7ZuSs27tQPA'}, 'available': True, 'path': 'playlists/C++_GUI_with_Qt_Playlist'}\n"
     ]
    }
   ],
   "source": [
    "print(get_keys(pl, {}, options, {\"playlists/C++_GUI_with_Qt_Playlist\": {}}))"
   ]
  },
  {
   "cell_type": "code",
   "execution_count": null,
   "metadata": {},
   "outputs": [],
   "source": [
    "# for link in all_links:\n",
    "#     print(\"link:\", link)\n",
    "#     print(\"link type\", link_type(link))\n",
    "#     print(\"link id\", link_id(link))\n",
    "#     yt = get_pytube(link)\n",
    "#     yt_string = yt_to_type_string(yt)\n",
    "#     print(\"metadata\", get_metadata(yt))\n",
    "for link in all_links:\n",
    "    print(\n",
    "        \"keys\",\n",
    "        get_keys(\n",
    "            get_pytube(link),\n",
    "            {},\n",
    "            {\n",
    "                \"dl_audio\": True,\n",
    "                \"dl_video\": True,\n",
    "                \"dl_captions\": True,\n",
    "                \"dl_thumbnail\": True,\n",
    "            },\n",
    "            {},\n",
    "        ),\n",
    "    )"
   ]
  }
 ],
 "metadata": {
  "interpreter": {
   "hash": "7f9ff59c3162761adf13ed323d56ee47dd50a44e9106b8fbfbd1d7db36ca348c"
  },
  "kernelspec": {
   "display_name": "Python 3.9.6 ('youmirror-1iwEkUPf-py3.9')",
   "language": "python",
   "name": "python3"
  },
  "language_info": {
   "codemirror_mode": {
    "name": "ipython",
    "version": 3
   },
   "file_extension": ".py",
   "mimetype": "text/x-python",
   "name": "python",
   "nbconvert_exporter": "python",
   "pygments_lexer": "ipython3",
   "version": "3.9.12"
  },
  "orig_nbformat": 4
 },
 "nbformat": 4,
 "nbformat_minor": 2
}
