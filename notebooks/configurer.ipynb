{
 "cells": [
  {
   "cell_type": "markdown",
   "metadata": {},
   "source": [
    "### Testing the configurator module"
   ]
  },
  {
   "cell_type": "code",
   "execution_count": 1,
   "metadata": {},
   "outputs": [],
   "source": [
    "from youmirror.configurer import *\n",
    "from pathlib import Path"
   ]
  },
  {
   "cell_type": "code",
   "execution_count": 3,
   "metadata": {},
   "outputs": [
    {
     "name": "stdout",
     "output_type": "stream",
     "text": [
      "{'name': ''}\n",
      "{'name': 'Something Terribly Offensive (animated by @Drue Langlois)', 'url': 'https://youtube.com/watch?v=EkDOuRAwrYE', 'last_updated': '2022-04-22', 'resolution': '720p'}\n"
     ]
    }
   ],
   "source": [
    "path = Path(\"../new_mirror\")\n",
    "config_path = path / Path(config_file)\n",
    "config = load_config(config_path)\n",
    "print(get_globals(config))\n",
    "print(get_yt(\"single\", \"EkDOuRAwrYE\", config))"
   ]
  },
  {
   "cell_type": "code",
   "execution_count": 7,
   "metadata": {},
   "outputs": [
    {
     "name": "stdout",
     "output_type": "stream",
     "text": [
      "['https://www.youtube.com/playlist?list=PLBZw8Bdva63XXUE-sP1njrS-vCSVITR-H', 'https://www.youtube.com/playlist?list=PLBZw8Bdva63W1gz2BJRYVPBPLGSUbbPx9']\n"
     ]
    }
   ],
   "source": [
    "print(get_urls(\"playlist\", config))"
   ]
  },
  {
   "cell_type": "code",
   "execution_count": null,
   "metadata": {},
   "outputs": [],
   "source": [
    "new_config = new_config(config_path, str(path))\n",
    "print(new_config)"
   ]
  },
  {
   "cell_type": "code",
   "execution_count": null,
   "metadata": {},
   "outputs": [],
   "source": [
    "print(yt_exists(\"channels\", \"test\", config))"
   ]
  },
  {
   "cell_type": "code",
   "execution_count": null,
   "metadata": {},
   "outputs": [],
   "source": [
    "config = set_yt(\"channels\", \"test\", config, {\"test\": \"test\"})\n",
    "print(\"config = \", config)\n",
    "print(get_yt(\"channels\", \"test\", config))\n",
    "print(yt_exists(\"channels\", \"test\", config))"
   ]
  },
  {
   "cell_type": "code",
   "execution_count": null,
   "metadata": {},
   "outputs": [],
   "source": [
    "set_options(\"youmirror\", config, {\"test\": \"test\"})\n",
    "set_options(\"youmirror\", config, {\"hi\": \"nottest\"})"
   ]
  }
 ],
 "metadata": {
  "interpreter": {
   "hash": "e004316eaf75f6b78db9dc7631215e8c72c4833232d7b160ec6af4e63c863a93"
  },
  "kernelspec": {
   "display_name": "Python ('memery')",
   "language": "python",
   "name": "python3"
  },
  "language_info": {
   "codemirror_mode": {
    "name": "ipython",
    "version": 3
   },
   "file_extension": ".py",
   "mimetype": "text/x-python",
   "name": "python",
   "nbconvert_exporter": "python",
   "pygments_lexer": "ipython3",
   "version": "3.9.6"
  }
 },
 "nbformat": 4,
 "nbformat_minor": 2
}
