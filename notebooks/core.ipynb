{
 "cells": [
  {
   "cell_type": "markdown",
   "metadata": {},
   "source": [
    "### Testing the core"
   ]
  },
  {
   "cell_type": "code",
   "execution_count": 1,
   "metadata": {},
   "outputs": [],
   "source": [
    "# Import and create\n",
    "import logging\n",
    "import time\n",
    "from pytube import Channel, Playlist, YouTube\n",
    "from youmirror.core import YouMirror\n",
    "\n",
    "ym = YouMirror()\n",
    "all_links = {\n",
    "    \"playlist\": \"https://www.youtube.com/playlist?list=PLD0D54219E5F2544D\",\n",
    "    \"channel\": \"https://www.youtube.com/c/TheAlwaysSunnyPodcast\",\n",
    "    \"single\": \"https://www.youtube.com/watch?v=rj7DOPPTkQA\",\n",
    "}\n",
    "\n",
    "pl = Playlist(\"https://www.youtube.com/playlist?list=PLD0D54219E5F2544D\")\n",
    "ch = Channel(\"https://www.youtube.com/c/TheAlwaysSunnyPodcast\")\n",
    "si = YouTube(\"https://www.youtube.com/watch?v=rj7DOPPTkQA\")\n",
    "all_types = [pl, ch, si]"
   ]
  },
  {
   "cell_type": "code",
   "execution_count": 3,
   "metadata": {},
   "outputs": [
    {
     "name": "stdout",
     "output_type": "stream",
     "text": [
      "tests/test_core.ipynb\n"
     ]
    }
   ],
   "source": [
    "from pathlib import Path\n",
    "\n",
    "path = Path(\"root/tests/test_core.ipynb\")\n",
    "print(\"/\".join(path.parts[1:]))"
   ]
  },
  {
   "cell_type": "markdown",
   "metadata": {},
   "source": [
    "new()"
   ]
  },
  {
   "cell_type": "code",
   "execution_count": 2,
   "metadata": {},
   "outputs": [],
   "source": [
    "ym.new(\"testmirror\")"
   ]
  },
  {
   "cell_type": "markdown",
   "metadata": {},
   "source": [
    "add()"
   ]
  },
  {
   "cell_type": "code",
   "execution_count": 2,
   "metadata": {},
   "outputs": [
    {
     "name": "stdout",
     "output_type": "stream",
     "text": [
      "Adding http://www.youtube.com/c/TheAlwaysSunnyPodcast to the mirror\n",
      "Adding channel 'The Always Sunny Podcast'\n",
      "Found 56 Youtube videos\n",
      "Adding '28. The Gang Sells Out | The Always Sunny Podcast'\n",
      "Adding 'So Many Johns | The Always Sunny Podcast #shorts'\n",
      "Adding '27. Who's Got Donkey Brains? | The Always Sunny Podcast'\n",
      "Adding 'You’ve Got Donkey Brains  | The Always Sunny Podcast #shorts'\n",
      "Adding 'Glenn Kicks A Door Down | The Always Sunny Podcast #shorts'\n",
      "Adding '26. The Gang Solves the North Korea Situation | The Always Sunny Podcast'\n",
      "Adding 'Glenn’s Bucket List | The Always Sunny Podcast #shorts'\n",
      "Adding '25. The Aluminum Monster vs. Fatty Magoo | The Always Sunny Podcast'\n",
      "Adding 'The Great Gazoo | The Always Sunny Podcast #shorts'\n",
      "Adding 'Yippee Ki-Yay, Mr. Falcon | The Always Sunny Podcast #shorts'\n",
      "Adding '24. The Gang Gets Held Hostage | The Always Sunny Podcast'\n",
      "Adding 'Charlie The Muskrat | The Always Sunny Podcast #shorts'\n",
      "Adding 'Happy St. Paddy’s Day | The Always Sunny Podcast #shorts'\n",
      "Adding 'Meg Toasts The Guys | The Always Sunny Podcast'\n",
      "Adding 'Red Nose Rob | The Always Sunny Podcast #shorts'\n",
      "Adding '23. Everybody Browns Out | The Always Sunny Podcast'\n",
      "Adding 'The Guys Get Hammered | The Always Sunny Podcast'\n",
      "Adding 'Coffee Eggs For Your Trying Times | The Always Sunny Podcast'\n",
      "Adding 'A Very Sh*tty Audition | The Always Sunny Podcast'\n",
      "Adding 'The Penaissance | The Always Sunny Podcast #shorts'\n",
      "Adding '22. Dennis and Dee's Mom Is Dead | The Always Sunny Podcast'\n",
      "Adding 'Is “The Rock” Bringing Baggy Back? | The Always Sunny Podcast #shorts'\n",
      "Adding 'Sweet Dee Is On The Line | The Always Sunny Podcast #shorts'\n",
      "Adding '21. The Gang Gets Invincible | The Always Sunny Podcast'\n",
      "Adding 'Donny John McCrab | The Always Sunny Podcast #shorts'\n",
      "Adding 'Rob’s Childhood Beach Memories | The Always Sunny Podcast #shorts'\n",
      "Adding '20. The Gang Finds A Dumpster Baby | The Always Sunny Podcast'\n",
      "Adding 'Glenn Took A Tumble | The Always Sunny Podcast #shorts'\n",
      "Adding 'Who’s Most Like Their Character? | The Always Sunny Podcast #shorts'\n",
      "Adding '19. The Guys Take Some Calls | The Always Sunny Podcast'\n",
      "Adding 'Let's Go to the Phones! | The Always Sunny Podcast #shorts'\n",
      "Adding 'Glenn's Liquid Diet | The Always Sunny Podcast #shorts'\n",
      "Adding '18. Dennis And Dee Get A New Dad | The Always Sunny Podcast'\n",
      "Adding 'Gunshots vs. Clicks | The Always Sunny Podcast #shorts'\n",
      "Adding 'The Story Behind \"Rock, Flag and Eagle\" | The Always Sunny Podcast #shorts'\n",
      "Adding '17. Charlie Goes America All Over Everybody's Ass | The Always Sunny Podcast'\n",
      "Adding 'If The Guys Were The Beatles, Who Would Be Who?  | The Always Sunny Podcast'\n",
      "Adding 'George Bush Hands | The Always Sunny Podcast'\n",
      "Adding '16. The Gang Runs For Office | The Always Sunny Podcast'\n",
      "Adding 'Glenn Insults the Audience | The Always Sunny Podcast'\n",
      "Adding '15. The Gang Exploits A Miracle | The Always Sunny Podcast'\n",
      "Adding '14. Rob Almost Fights Some Guy Outside A Hamburger Store | The Always Sunny Podcast'\n",
      "Adding '13. The Gang Gives Back | The Always Sunny Podcast'\n",
      "Adding '12. Hundred Dollar Baby | The Always Sunny Podcast'\n",
      "Adding '11. Mac Bangs Dennis' Mom | The Always Sunny Podcast'\n",
      "Adding '10. Dennis and Dee Go On Welfare | The Always Sunny Podcast'\n",
      "Adding '9. The Gang Goes Jihad | The Always Sunny Podcast'\n",
      "Adding '8. Charlie Gets Crippled | The Always Sunny Podcast'\n",
      "Adding '7. Charlie Got Molested | The Always Sunny Podcast'\n",
      "Adding '6. The Gang Finds A Dead Guy | The Always Sunny Podcast'\n",
      "Adding '5. Gun Fever | The Always Sunny Podcast'\n",
      "Adding '4. Charlie Has Cancer | The Always Sunny Podcast'\n",
      "Adding '3. Underage Drinking: A National Concern | The Always Sunny Podcast'\n",
      "Adding '2. Charlie Wants An Abortion | The Always Sunny Podcast'\n",
      "Adding '1. The Gang Gets Racist | The Always Sunny Podcast'\n",
      "Adding 'Video Podcast Teaser | The Always Sunny Podcast'\n",
      "Calculating filesize for video channels/The_Always_Sunny_Podcast/28. The Gang Sells Out | The Always Sunny Podcast/28_The_Gang_Sells_Out__The_Always_Sunny_Podcast.mp4\n",
      "Calculating filesize for video channels/The_Always_Sunny_Podcast/So Many Johns | The Always Sunny Podcast #shorts/So_Many_Johns__The_Always_Sunny_Podcast_shorts.mp4\n",
      "Calculating filesize for video channels/The_Always_Sunny_Podcast/27. Who's Got Donkey Brains? | The Always Sunny Podcast/27_Whos_Got_Donkey_Brains__The_Always_Sunny_Podcast.mp4\n",
      "Calculating filesize for video channels/The_Always_Sunny_Podcast/You’ve Got Donkey Brains  | The Always Sunny Podcast #shorts/You’ve_Got_Donkey_Brains___The_Always_Sunny_Podcast_shorts.mp4\n",
      "Calculating filesize for video channels/The_Always_Sunny_Podcast/Glenn Kicks A Door Down | The Always Sunny Podcast #shorts/Glenn_Kicks_A_Door_Down__The_Always_Sunny_Podcast_shorts.mp4\n",
      "Calculating filesize for video channels/The_Always_Sunny_Podcast/26. The Gang Solves the North Korea Situation | The Always Sunny Podcast/26_The_Gang_Solves_the_North_Korea_Situation__The_Always_Sunny_Podcast.mp4\n",
      "Calculating filesize for video channels/The_Always_Sunny_Podcast/Glenn’s Bucket List | The Always Sunny Podcast #shorts/Glenn’s_Bucket_List__The_Always_Sunny_Podcast_shorts.mp4\n",
      "Calculating filesize for video channels/The_Always_Sunny_Podcast/25. The Aluminum Monster vs. Fatty Magoo | The Always Sunny Podcast/25_The_Aluminum_Monster_vs_Fatty_Magoo__The_Always_Sunny_Podcast.mp4\n",
      "Calculating filesize for video channels/The_Always_Sunny_Podcast/The Great Gazoo | The Always Sunny Podcast #shorts/The_Great_Gazoo__The_Always_Sunny_Podcast_shorts.mp4\n",
      "Calculating filesize for video channels/The_Always_Sunny_Podcast/Yippee Ki-Yay, Mr. Falcon | The Always Sunny Podcast #shorts/Yippee_Ki-Yay_Mr_Falcon__The_Always_Sunny_Podcast_shorts.mp4\n",
      "Calculating filesize for video channels/The_Always_Sunny_Podcast/24. The Gang Gets Held Hostage | The Always Sunny Podcast/24_The_Gang_Gets_Held_Hostage__The_Always_Sunny_Podcast.mp4\n",
      "Calculating filesize for video channels/The_Always_Sunny_Podcast/Charlie The Muskrat | The Always Sunny Podcast #shorts/Charlie_The_Muskrat__The_Always_Sunny_Podcast_shorts.mp4\n",
      "Calculating filesize for video channels/The_Always_Sunny_Podcast/Happy St. Paddy’s Day | The Always Sunny Podcast #shorts/Happy_St_Paddy’s_Day__The_Always_Sunny_Podcast_shorts.mp4\n",
      "Calculating filesize for video channels/The_Always_Sunny_Podcast/Meg Toasts The Guys | The Always Sunny Podcast/Meg_Toasts_The_Guys__The_Always_Sunny_Podcast.mp4\n",
      "Calculating filesize for video channels/The_Always_Sunny_Podcast/Red Nose Rob | The Always Sunny Podcast #shorts/Red_Nose_Rob__The_Always_Sunny_Podcast_shorts.mp4\n",
      "Calculating filesize for video channels/The_Always_Sunny_Podcast/23. Everybody Browns Out | The Always Sunny Podcast/23_Everybody_Browns_Out__The_Always_Sunny_Podcast.mp4\n",
      "Calculating filesize for video channels/The_Always_Sunny_Podcast/The Guys Get Hammered | The Always Sunny Podcast/The_Guys_Get_Hammered__The_Always_Sunny_Podcast.mp4\n",
      "Calculating filesize for video channels/The_Always_Sunny_Podcast/Coffee Eggs For Your Trying Times | The Always Sunny Podcast/Coffee_Eggs_For_Your_Trying_Times__The_Always_Sunny_Podcast.mp4\n",
      "Calculating filesize for video channels/The_Always_Sunny_Podcast/A Very Sh*tty Audition | The Always Sunny Podcast/A_Very_Shtty_Audition__The_Always_Sunny_Podcast.mp4\n",
      "Calculating filesize for video channels/The_Always_Sunny_Podcast/The Penaissance | The Always Sunny Podcast #shorts/The_Penaissance__The_Always_Sunny_Podcast_shorts.mp4\n",
      "Calculating filesize for video channels/The_Always_Sunny_Podcast/22. Dennis and Dee's Mom Is Dead | The Always Sunny Podcast/22_Dennis_and_Dees_Mom_Is_Dead__The_Always_Sunny_Podcast.mp4\n",
      "Calculating filesize for video channels/The_Always_Sunny_Podcast/Is “The Rock” Bringing Baggy Back? | The Always Sunny Podcast #shorts/Is_“The_Rock”_Bringing_Baggy_Back__The_Always_Sunny_Podcast_shorts.mp4\n",
      "Calculating filesize for video channels/The_Always_Sunny_Podcast/Sweet Dee Is On The Line | The Always Sunny Podcast #shorts/Sweet_Dee_Is_On_The_Line__The_Always_Sunny_Podcast_shorts.mp4\n",
      "Calculating filesize for video channels/The_Always_Sunny_Podcast/21. The Gang Gets Invincible | The Always Sunny Podcast/21_The_Gang_Gets_Invincible__The_Always_Sunny_Podcast.mp4\n",
      "Calculating filesize for video channels/The_Always_Sunny_Podcast/Donny John McCrab | The Always Sunny Podcast #shorts/Donny_John_McCrab__The_Always_Sunny_Podcast_shorts.mp4\n",
      "Calculating filesize for video channels/The_Always_Sunny_Podcast/Rob’s Childhood Beach Memories | The Always Sunny Podcast #shorts/Rob’s_Childhood_Beach_Memories__The_Always_Sunny_Podcast_shorts.mp4\n",
      "Calculating filesize for video channels/The_Always_Sunny_Podcast/20. The Gang Finds A Dumpster Baby | The Always Sunny Podcast/20_The_Gang_Finds_A_Dumpster_Baby__The_Always_Sunny_Podcast.mp4\n",
      "Calculating filesize for video channels/The_Always_Sunny_Podcast/Glenn Took A Tumble | The Always Sunny Podcast #shorts/Glenn_Took_A_Tumble__The_Always_Sunny_Podcast_shorts.mp4\n",
      "Calculating filesize for video channels/The_Always_Sunny_Podcast/Who’s Most Like Their Character? | The Always Sunny Podcast #shorts/Who’s_Most_Like_Their_Character__The_Always_Sunny_Podcast_shorts.mp4\n",
      "Calculating filesize for video channels/The_Always_Sunny_Podcast/19. The Guys Take Some Calls | The Always Sunny Podcast/19_The_Guys_Take_Some_Calls__The_Always_Sunny_Podcast.mp4\n",
      "Calculating filesize for video channels/The_Always_Sunny_Podcast/Let's Go to the Phones! | The Always Sunny Podcast #shorts/Lets_Go_to_the_Phones!__The_Always_Sunny_Podcast_shorts.mp4\n",
      "Calculating filesize for video channels/The_Always_Sunny_Podcast/Glenn's Liquid Diet | The Always Sunny Podcast #shorts/Glenns_Liquid_Diet__The_Always_Sunny_Podcast_shorts.mp4\n",
      "Calculating filesize for video channels/The_Always_Sunny_Podcast/18. Dennis And Dee Get A New Dad | The Always Sunny Podcast/18_Dennis_And_Dee_Get_A_New_Dad__The_Always_Sunny_Podcast.mp4\n",
      "Calculating filesize for video channels/The_Always_Sunny_Podcast/Gunshots vs. Clicks | The Always Sunny Podcast #shorts/Gunshots_vs_Clicks__The_Always_Sunny_Podcast_shorts.mp4\n",
      "Calculating filesize for video channels/The_Always_Sunny_Podcast/The Story Behind \"Rock, Flag and Eagle\" | The Always Sunny Podcast #shorts/The_Story_Behind_Rock_Flag_and_Eagle__The_Always_Sunny_Podcast_shorts.mp4\n",
      "Calculating filesize for video channels/The_Always_Sunny_Podcast/17. Charlie Goes America All Over Everybody's Ass | The Always Sunny Podcast/17_Charlie_Goes_America_All_Over_Everybodys_Ass__The_Always_Sunny_Podcast.mp4\n",
      "Calculating filesize for video channels/The_Always_Sunny_Podcast/If The Guys Were The Beatles, Who Would Be Who?  | The Always Sunny Podcast/If_The_Guys_Were_The_Beatles_Who_Would_Be_Who___The_Always_Sunny_Podcast.mp4\n",
      "Calculating filesize for video channels/The_Always_Sunny_Podcast/George Bush Hands | The Always Sunny Podcast/George_Bush_Hands__The_Always_Sunny_Podcast.mp4\n",
      "Calculating filesize for video channels/The_Always_Sunny_Podcast/16. The Gang Runs For Office | The Always Sunny Podcast/16_The_Gang_Runs_For_Office__The_Always_Sunny_Podcast.mp4\n",
      "Calculating filesize for video channels/The_Always_Sunny_Podcast/Glenn Insults the Audience | The Always Sunny Podcast/Glenn_Insults_the_Audience__The_Always_Sunny_Podcast.mp4\n",
      "Calculating filesize for video channels/The_Always_Sunny_Podcast/15. The Gang Exploits A Miracle | The Always Sunny Podcast/15_The_Gang_Exploits_A_Miracle__The_Always_Sunny_Podcast.mp4\n",
      "Calculating filesize for video channels/The_Always_Sunny_Podcast/14. Rob Almost Fights Some Guy Outside A Hamburger Store | The Always Sunny Podcast/14_Rob_Almost_Fights_Some_Guy_Outside_A_Hamburger_Store__The_Always_Sunny_Podcast.mp4\n",
      "Calculating filesize for video channels/The_Always_Sunny_Podcast/13. The Gang Gives Back | The Always Sunny Podcast/13_The_Gang_Gives_Back__The_Always_Sunny_Podcast.mp4\n",
      "Calculating filesize for video channels/The_Always_Sunny_Podcast/12. Hundred Dollar Baby | The Always Sunny Podcast/12_Hundred_Dollar_Baby__The_Always_Sunny_Podcast.mp4\n",
      "Calculating filesize for video channels/The_Always_Sunny_Podcast/11. Mac Bangs Dennis' Mom | The Always Sunny Podcast/11_Mac_Bangs_Dennis_Mom__The_Always_Sunny_Podcast.mp4\n",
      "Calculating filesize for video channels/The_Always_Sunny_Podcast/10. Dennis and Dee Go On Welfare | The Always Sunny Podcast/10_Dennis_and_Dee_Go_On_Welfare__The_Always_Sunny_Podcast.mp4\n",
      "Calculating filesize for video channels/The_Always_Sunny_Podcast/9. The Gang Goes Jihad | The Always Sunny Podcast/9_The_Gang_Goes_Jihad__The_Always_Sunny_Podcast.mp4\n",
      "Calculating filesize for video channels/The_Always_Sunny_Podcast/8. Charlie Gets Crippled | The Always Sunny Podcast/8_Charlie_Gets_Crippled__The_Always_Sunny_Podcast.mp4\n",
      "Calculating filesize for video channels/The_Always_Sunny_Podcast/7. Charlie Got Molested | The Always Sunny Podcast/7_Charlie_Got_Molested__The_Always_Sunny_Podcast.mp4\n",
      "Calculating filesize for video channels/The_Always_Sunny_Podcast/6. The Gang Finds A Dead Guy | The Always Sunny Podcast/6_The_Gang_Finds_A_Dead_Guy__The_Always_Sunny_Podcast.mp4\n",
      "Calculating filesize for video channels/The_Always_Sunny_Podcast/5. Gun Fever | The Always Sunny Podcast/5_Gun_Fever__The_Always_Sunny_Podcast.mp4\n",
      "Calculating filesize for video channels/The_Always_Sunny_Podcast/4. Charlie Has Cancer | The Always Sunny Podcast/4_Charlie_Has_Cancer__The_Always_Sunny_Podcast.mp4\n",
      "Calculating filesize for video channels/The_Always_Sunny_Podcast/3. Underage Drinking: A National Concern | The Always Sunny Podcast/3_Underage_Drinking_A_National_Concern__The_Always_Sunny_Podcast.mp4\n",
      "Calculating filesize for video channels/The_Always_Sunny_Podcast/2. Charlie Wants An Abortion | The Always Sunny Podcast/2_Charlie_Wants_An_Abortion__The_Always_Sunny_Podcast.mp4\n",
      "Calculating filesize for video channels/The_Always_Sunny_Podcast/1. The Gang Gets Racist | The Always Sunny Podcast/1_The_Gang_Gets_Racist__The_Always_Sunny_Podcast.mp4\n",
      "Calculating filesize for video channels/The_Always_Sunny_Podcast/Video Podcast Teaser | The Always Sunny Podcast/Video_Podcast_Teaser__The_Always_Sunny_Podcast.mp4\n",
      "Downloading will add 6.4GiB bytes to the mirror\n",
      "Saving...\n",
      "Downloading...\n"
     ]
    }
   ],
   "source": [
    "ym.add(\"https://www.youtube.com/c/TheAlwaysSunnyPodcast\", \"testmirror\")"
   ]
  },
  {
   "cell_type": "code",
   "execution_count": null,
   "metadata": {},
   "outputs": [],
   "source": [
    "# %rm -rf testmirror"
   ]
  },
  {
   "cell_type": "code",
   "execution_count": null,
   "metadata": {},
   "outputs": [],
   "source": []
  }
 ],
 "metadata": {
  "interpreter": {
   "hash": "e004316eaf75f6b78db9dc7631215e8c72c4833232d7b160ec6af4e63c863a93"
  },
  "kernelspec": {
   "display_name": "Python ('memery')",
   "language": "python",
   "name": "python3"
  },
  "language_info": {
   "codemirror_mode": {
    "name": "ipython",
    "version": 3
   },
   "file_extension": ".py",
   "mimetype": "text/x-python",
   "name": "python",
   "nbconvert_exporter": "python",
   "pygments_lexer": "ipython3",
   "version": "3.9.12"
  }
 },
 "nbformat": 4,
 "nbformat_minor": 2
}
