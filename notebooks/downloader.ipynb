{
 "cells": [
  {
   "cell_type": "markdown",
   "metadata": {},
   "source": [
    "### Testing the downloader"
   ]
  },
  {
   "cell_type": "code",
   "execution_count": 5,
   "metadata": {},
   "outputs": [],
   "source": [
    "from youmirror.downloader import *\n",
    "from pytube import YouTube, Caption\n",
    "\n",
    "yt = YouTube(\"https://www.youtube.com/watch?v=EkDOuRAwrYE\")\n",
    "import pytube.request as request"
   ]
  },
  {
   "cell_type": "code",
   "execution_count": 6,
   "metadata": {},
   "outputs": [
    {
     "ename": "RegexMatchError",
     "evalue": "seq_filesize: could not find match for b'Segment-Count: (\\\\d+)'",
     "output_type": "error",
     "traceback": [
      "\u001b[0;31m---------------------------------------------------------------------------\u001b[0m",
      "\u001b[0;31mRegexMatchError\u001b[0m                           Traceback (most recent call last)",
      "\u001b[1;32m/Users/warrenkrettek/Documents/projects/youmirror/tests/test_downloader.ipynb Cell 3'\u001b[0m in \u001b[0;36m<cell line: 2>\u001b[0;34m()\u001b[0m\n\u001b[1;32m      <a href='vscode-notebook-cell:/Users/warrenkrettek/Documents/projects/youmirror/tests/test_downloader.ipynb#ch0000007?line=0'>1</a>\u001b[0m url \u001b[39m=\u001b[39m yt\u001b[39m.\u001b[39mthumbnail_url\n\u001b[0;32m----> <a href='vscode-notebook-cell:/Users/warrenkrettek/Documents/projects/youmirror/tests/test_downloader.ipynb#ch0000007?line=1'>2</a>\u001b[0m \u001b[39mprint\u001b[39m(request\u001b[39m.\u001b[39;49mseq_filesize(url))\n",
      "File \u001b[0;32m~/Library/Caches/pypoetry/virtualenvs/youmirror-DiMKVoJk-py3.9/lib/python3.9/site-packages/pytube/request.py:241\u001b[0m, in \u001b[0;36mseq_filesize\u001b[0;34m(url)\u001b[0m\n\u001b[1;32m    <a href='file:///Users/warrenkrettek/Library/Caches/pypoetry/virtualenvs/youmirror-DiMKVoJk-py3.9/lib/python3.9/site-packages/pytube/request.py?line=237'>238</a>\u001b[0m         \u001b[39mpass\u001b[39;00m\n\u001b[1;32m    <a href='file:///Users/warrenkrettek/Library/Caches/pypoetry/virtualenvs/youmirror-DiMKVoJk-py3.9/lib/python3.9/site-packages/pytube/request.py?line=239'>240</a>\u001b[0m \u001b[39mif\u001b[39;00m segment_count \u001b[39m==\u001b[39m \u001b[39m0\u001b[39m:\n\u001b[0;32m--> <a href='file:///Users/warrenkrettek/Library/Caches/pypoetry/virtualenvs/youmirror-DiMKVoJk-py3.9/lib/python3.9/site-packages/pytube/request.py?line=240'>241</a>\u001b[0m     \u001b[39mraise\u001b[39;00m RegexMatchError(\u001b[39m'\u001b[39m\u001b[39mseq_filesize\u001b[39m\u001b[39m'\u001b[39m, segment_regex)\n\u001b[1;32m    <a href='file:///Users/warrenkrettek/Library/Caches/pypoetry/virtualenvs/youmirror-DiMKVoJk-py3.9/lib/python3.9/site-packages/pytube/request.py?line=242'>243</a>\u001b[0m \u001b[39m# We make HEAD requests to the segments sequentially to find the total filesize.\u001b[39;00m\n\u001b[1;32m    <a href='file:///Users/warrenkrettek/Library/Caches/pypoetry/virtualenvs/youmirror-DiMKVoJk-py3.9/lib/python3.9/site-packages/pytube/request.py?line=243'>244</a>\u001b[0m seq_num \u001b[39m=\u001b[39m \u001b[39m1\u001b[39m\n",
      "\u001b[0;31mRegexMatchError\u001b[0m: seq_filesize: could not find match for b'Segment-Count: (\\\\d+)'"
     ]
    }
   ],
   "source": [
    "url = yt.thumbnail_url\n",
    "print(request.seq_filesize(url))"
   ]
  },
  {
   "cell_type": "code",
   "execution_count": 3,
   "metadata": {},
   "outputs": [
    {
     "name": "stdout",
     "output_type": "stream",
     "text": [
      "Downloading files/doodoo.mp4\n",
      "Downloading files/doodoo_audio.mp4\n",
      "Downloading files/doodoo.srt\n",
      "zh-CN\n",
      "a.en\n",
      "Downloading files/doodoo.jpg\n"
     ]
    },
    {
     "data": {
      "text/plain": [
       "'doodoo.jpg'"
      ]
     },
     "execution_count": 3,
     "metadata": {},
     "output_type": "execute_result"
    }
   ],
   "source": [
    "download_single(\n",
    "    yt, \"video\", \"files/doodoo.mp4\", {\"has_ffmpeg\": True, \"resolution\": \"1080p\"}\n",
    ")\n",
    "download_single(yt, \"audio\", \"files/doodoo_audio.mp4\", {\"has_ffmpeg\": False})\n",
    "download_single(yt, \"caption\", \"files/doodoo.srt\", {\"caption_type\": \"a.en\"})\n",
    "download_single(yt, \"thumbnail\", \"files/doodoo.jpg\", {\"has_ffmpeg\": False})"
   ]
  },
  {
   "cell_type": "code",
   "execution_count": null,
   "metadata": {},
   "outputs": [],
   "source": [
    "yt = YouTube(\"https://www.youtube.com/watch?v=nTZipTVFHmo\")\n",
    "# stream = get_video_stream(yt, {\"resolution\": \"1080p\"})\n",
    "# print(stream.includes_audio_track)\n",
    "download_video(yt, \"./\", \"doodoo.mp4\", {\"resolution\": \"1080p\"})"
   ]
  },
  {
   "cell_type": "code",
   "execution_count": null,
   "metadata": {},
   "outputs": [],
   "source": [
    "import subprocess\n",
    "\n",
    "yt = YouTube(\"https://www.youtube.com/watch?v=kUKinGYoeDA\")\n",
    "length = yt.length\n",
    "video_stream = get_video_stream(yt, {\"resolution\": \"1080p\"})\n",
    "video_stream.download(filename=\"video_stream.mp4\")\n",
    "audio_stream = get_audio_stream(yt, dict())\n",
    "audio_stream.download(filename=\"audio_stream.mp4\")\n",
    "subprocess.run(\n",
    "    [\n",
    "        \"ffmpeg\",\n",
    "        \"-i\",\n",
    "        \"video_stream.mp4\",\n",
    "        \"-i\",\n",
    "        \"audio_stream.mp4\",\n",
    "        \"-c:v\",\n",
    "        \"copy\",\n",
    "        \"-c:a\",\n",
    "        \"copy\",\n",
    "        \"video_audio.mp4\",\n",
    "    ]\n",
    ")"
   ]
  },
  {
   "cell_type": "code",
   "execution_count": null,
   "metadata": {},
   "outputs": [],
   "source": [
    "Path(\"temp\").touch()\n",
    "Path(\"doodoo.mp4\").rename(\"temp\")"
   ]
  }
 ],
 "metadata": {
  "interpreter": {
   "hash": "7f9ff59c3162761adf13ed323d56ee47dd50a44e9106b8fbfbd1d7db36ca348c"
  },
  "kernelspec": {
   "display_name": "Python 3.9.6 ('youmirror-1iwEkUPf-py3.9')",
   "language": "python",
   "name": "python3"
  },
  "language_info": {
   "codemirror_mode": {
    "name": "ipython",
    "version": 3
   },
   "file_extension": ".py",
   "mimetype": "text/x-python",
   "name": "python",
   "nbconvert_exporter": "python",
   "pygments_lexer": "ipython3",
   "version": "3.9.12"
  },
  "orig_nbformat": 4
 },
 "nbformat": 4,
 "nbformat_minor": 2
}
