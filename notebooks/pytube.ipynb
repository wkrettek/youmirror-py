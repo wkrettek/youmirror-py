{
 "cells": [
  {
   "cell_type": "markdown",
   "metadata": {},
   "source": [
    "## This is just playing with pytube"
   ]
  },
  {
   "cell_type": "code",
   "execution_count": null,
   "metadata": {},
   "outputs": [],
   "source": [
    "from pytube import YouTube, Playlist, Stream, Channel\n",
    "from typing import Union"
   ]
  },
  {
   "cell_type": "markdown",
   "metadata": {},
   "source": [
    "## Videos"
   ]
  },
  {
   "cell_type": "code",
   "execution_count": null,
   "metadata": {},
   "outputs": [],
   "source": [
    "yt = YouTube(\n",
    "    \"https://www.youtube.com/watch?v=pn4XSDnaiPY&list=PLbpi6ZahtOH52gc6K5nH46dbD55DxH3a1\"\n",
    ")\n",
    "print(yt.title)\n",
    "print(yt.watch_url)\n",
    "print(yt.thumbnail_url)\n",
    "print(yt.channel_id)\n",
    "print(yt.channel_url)\n",
    "print(yt.author)\n",
    "print(yt.video_id)"
   ]
  },
  {
   "cell_type": "markdown",
   "metadata": {},
   "source": [
    "## Playlists"
   ]
  },
  {
   "cell_type": "code",
   "execution_count": null,
   "metadata": {},
   "outputs": [],
   "source": [
    "playlist = Playlist(\n",
    "    \"https://www.youtube.com/watch?v=pn4XSDnaiPY&list=PLbpi6ZahtOH52gc6K5nH46dbD55DxH3a1\"\n",
    ")\n",
    "playlist.url_generator()\n",
    "print(playlist.title)\n",
    "print(playlist.owner)\n",
    "print(playlist.owner_id)\n",
    "print(playlist.description)\n",
    "print(\"Playlist id\", playlist.playlist_id)\n",
    "print(\"Playlist url\", playlist.playlist_url)\n",
    "for url in playlist.url_generator():\n",
    "    print(url)"
   ]
  },
  {
   "cell_type": "markdown",
   "metadata": {},
   "source": [
    "## Channels"
   ]
  },
  {
   "cell_type": "code",
   "execution_count": null,
   "metadata": {},
   "outputs": [],
   "source": [
    "# Need to do some weird stuff to track channels because\n",
    "# https://www.youtube.com/channel/UC-9-kyTW8ZkZNDHQJ6FgpwQ\n",
    "# is different from\n",
    "# https://www.youtube.com/c/UC-9-kyTW8ZkZNDHQJ6FgpwQ\n",
    "# But they have the same id!!!\n",
    "# ---- Going to use the uri ----\n",
    "\n",
    "# Maybe track the prefix?\n",
    "channel = Channel(\"https://www.youtube.com/user/videogamedunkey\")\n",
    "print(channel.channel_name)\n",
    "print(channel.channel_id)\n",
    "print(channel.vanity_url)\n",
    "print(channel.channel_uri)  # Okay the key is using the uri, not the vanity url\n",
    "print(len(channel.video_urls))"
   ]
  },
  {
   "cell_type": "code",
   "execution_count": null,
   "metadata": {},
   "outputs": [],
   "source": [
    "yt = YouTube(\"https://www.youtube.com/watch?v=xviPQ07WfXI&t=534s\")\n",
    "print(yt.length)\n",
    "resolutions = [\n",
    "    \"144p\",\n",
    "    \"240p\",\n",
    "    \"360p\",\n",
    "    \"480p\",\n",
    "    \"720p\",\n",
    "    \"1080p\",\n",
    "    \"1440p\",\n",
    "    \"2160p\",\n",
    "    \"4320p\",\n",
    "]\n",
    "resolutions.reverse()\n",
    "# for r in iter(resolutions):\n",
    "#     print(r, yt.streams.filter(res=r, subtype=\"mp4\"))\n",
    "#     print(\"-\"*20)\n",
    "# for i, stream in enumerate(yt.streams.filter().desc()):\n",
    "#     print(i, stream)\n",
    "#     # stream.download(output_path=\".\", filename=f\"{i}-{stream.title}.mp4\")\n",
    "# print(yt.streams.filter(subtype=\"mp4\").order_by('resolution').desc())\n",
    "# print(\"-\"*20)\n",
    "streams = (\n",
    "    yt.streams.filter(subtype=\"mp4\", only_audio=True).order_by(\"abr\").desc()\n",
    ")  # Get best bitrate stream\n",
    "streams[0].download()"
   ]
  },
  {
   "cell_type": "code",
   "execution_count": null,
   "metadata": {},
   "outputs": [],
   "source": [
    "# things = [yt.author, yt.caption_tracks, yt.captions, yt.channel_id, yt.channel_url, yt.description, yt.fmt_streams, yt.keywords, yt.length, yt.metadata, yt.publish_date, yt.rating, yt.title, yt.views, yt.video_id, yt.js_url]\n",
    "\n",
    "# too_big = [yt.vid_info, yt.js, yt.initial_data, yt.streaming_data]\n",
    "\n",
    "# for t in things:\n",
    "#     print(t)\n",
    "#     print(\"-\"*20)\n",
    "# open(\"metadata.txt\", \"w\").write(str(metadata))\n",
    "v_stream = yt.streams.filter(res=\"2160p\").first()\n",
    "a_stream = yt.streams.filter(only_audio=True).first()\n",
    "v_stream.download(filename=\"sunny_video.mp4\")\n",
    "a_stream.download(filename=\"sunny_audio.mp4\")\n",
    "# print(yt.streams)"
   ]
  },
  {
   "cell_type": "code",
   "execution_count": null,
   "metadata": {},
   "outputs": [],
   "source": [
    "# yt = YouTube(\"https://www.youtube.com/watch?v=xviPQ07WfXI&t=534s\")\n",
    "streams = yt.streams"
   ]
  },
  {
   "cell_type": "code",
   "execution_count": null,
   "metadata": {},
   "outputs": [],
   "source": [
    "print(streams)"
   ]
  },
  {
   "cell_type": "markdown",
   "metadata": {},
   "source": [
    "### Bypassing age restrictions"
   ]
  },
  {
   "cell_type": "code",
   "execution_count": null,
   "metadata": {},
   "outputs": [],
   "source": [
    "yt_restricted = YouTube(\"https://www.youtube.com/watch?v=wU9Daiu5XoM\", use_oauth=True)"
   ]
  },
  {
   "cell_type": "code",
   "execution_count": null,
   "metadata": {},
   "outputs": [],
   "source": [
    "# Print on progess\n",
    "def print_progress(stream, chunk, bytes_remaining):\n",
    "    print(f\"Stream: {stream}\")\n",
    "    # print(f'Chunk: {chunk}')\n",
    "    print(f\"{bytes_remaining} bytes remaining\")\n",
    "\n",
    "\n",
    "yt_restricted.register_on_progress_callback(print_progress)"
   ]
  },
  {
   "cell_type": "code",
   "execution_count": null,
   "metadata": {},
   "outputs": [],
   "source": [
    "stream = yt_restricted.streams.get_highest_resolution()\n",
    "stream.download()"
   ]
  }
 ],
 "metadata": {
  "interpreter": {
   "hash": "7812ea015bdcee6f23a998adcdd2ef97c151c0c241b7b7070987d9313e41299d"
  },
  "kernelspec": {
   "display_name": "Python 3.9.2 64-bit",
   "language": "python",
   "name": "python3"
  },
  "language_info": {
   "codemirror_mode": {
    "name": "ipython",
    "version": 3
   },
   "file_extension": ".py",
   "mimetype": "text/x-python",
   "name": "python",
   "nbconvert_exporter": "python",
   "pygments_lexer": "ipython3",
   "version": "3.9.12"
  },
  "orig_nbformat": 4
 },
 "nbformat": 4,
 "nbformat_minor": 2
}
